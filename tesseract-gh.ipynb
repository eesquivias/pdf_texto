{
 "cells": [
  {
   "cell_type": "markdown",
   "metadata": {},
   "source": [
    "CONVERSIÓN DE PDF A IMAGEN Y DE IMAGEN A TEXTO. TIPO OCR\n",
    "Se necesita el image de pil para lo primero y el tesseract para lo segundo"
   ]
  },
  {
   "cell_type": "code",
   "execution_count": 2,
   "metadata": {},
   "outputs": [],
   "source": [
    "try:\n",
    "    from PIL import Image\n",
    "except ImportError:\n",
    "    import Image\n",
    "import pytesseract"
   ]
  },
  {
   "cell_type": "code",
   "execution_count": null,
   "metadata": {},
   "outputs": [],
   "source": [
    "#posible path\n",
    "#C:\\Program Files\\Tesseract-OCR"
   ]
  },
  {
   "cell_type": "code",
   "execution_count": 8,
   "metadata": {},
   "outputs": [],
   "source": [
    "#CREO QUE ESTE ES EL BUENO:\n",
    "#!pip install pytesseract"
   ]
  },
  {
   "cell_type": "code",
   "execution_count": 7,
   "metadata": {},
   "outputs": [],
   "source": [
    "#alternativas quizá también necesarias:\n",
    "#!pip install tesseract\n",
    "#pip install tesseract-ocr"
   ]
  },
  {
   "cell_type": "code",
   "execution_count": 1,
   "metadata": {},
   "outputs": [],
   "source": [
    "#IMPORTANTISIMO confirmar el path. si no está en el mismo path, el programa no funciona. \n",
    "#hay que ponerlo también en la celda en la que se ejecute. \n",
    "import os\n",
    "current_path = os.getcwd() #ver dónde estoy, cuál es mi path\n",
    "current_path\n",
    "#pytesseract.pytesseract.tesseract_cmd=\"C:\\\\MyApps\\\\Tesseract-ocr\\\\tesseract.exe\"\n",
    "\n",
    "#este creo que es el bueno para jupyter notebook: \n",
    "#pytesseract.pytesseract.tesseract_cmd = 'C:\\\\Users\\\\...\\\\anaconda3\\\\Lib\\\\Tesseract-OCR\\\\tesseract.exe'\n",
    "\n",
    "#pero yo donde tengo el notebook es donde tengo que tener el trained data que voy a usar para la conversión \n",
    "#(en el caso de alemán he descargado una copia en esta carpeta) \n",
    "#otra opción sería poner ./tessdata??? comprobar. \n",
    "#la tercera sería poner el path a donde esté el idioma que quiero, \n",
    "#como creo que era el caso del inglés, que viene por defecto (el de arriba que he dado por bueno para jupyter) "
   ]
  },
  {
   "cell_type": "code",
   "execution_count": 9,
   "metadata": {},
   "outputs": [
    {
     "name": "stdout",
     "output_type": "stream",
     "text": [
      "['eng', 'osd']\n"
     ]
    }
   ],
   "source": [
    "#compruebo qué idiomas me trae por defecto el pytesseract que tengo y no me aparecen los idiomas que no sean inglés. \n",
    "print(pytesseract.get_languages(config=''))"
   ]
  },
  {
   "cell_type": "code",
   "execution_count": 10,
   "metadata": {},
   "outputs": [],
   "source": []
  },
  {
   "cell_type": "code",
   "execution_count": 11,
   "metadata": {},
   "outputs": [],
   "source": [
    "#pip install pdf2image"
   ]
  },
  {
   "cell_type": "code",
   "execution_count": 15,
   "metadata": {},
   "outputs": [
    {
     "data": {
      "text/plain": [
       "LooseVersion ('5.0.0.20211201\n",
       " leptonica-1.78.0\n",
       "  libgif 5.1.4 : libjpeg 8d (libjpeg-turbo 1.5.3) : libpng 1.6.34 : libtiff 4.0.9 : zlib 1.2.11 : libwebp 0.6.1 : libopenjp2 2.3.0\n",
       " Found AVX2\n",
       " Found AVX\n",
       " Found FMA\n",
       " Found SSE4.1\n",
       " Found libarchive 3.5.0 zlib/1.2.11 liblzma/5.2.3 bz2lib/1.0.6 liblz4/1.7.5 libzstd/1.4.5\n",
       " Found libcurl/7.77.0-DEV Schannel zlib/1.2.11 zstd/1.4.5 libidn2/2.0.4 nghttp2/1.31.0\n",
       "')"
      ]
     },
     "execution_count": 15,
     "metadata": {},
     "output_type": "execute_result"
    }
   ],
   "source": [
    "pytesseract. get_tesseract_version()"
   ]
  },
  {
   "cell_type": "code",
   "execution_count": 17,
   "metadata": {},
   "outputs": [],
   "source": [
    "#CONVERTIR A IMAGEN. CREA UNA IMAGEN PARA CADA PÁGINA DEL DOCUMENTO. \n",
    "filePath = '-----.pdf'\n",
    "from pdf2image import convert_from_path\n",
    "pages = convert_from_path(filePath, 500)\n",
    "image_counter = 1\n",
    "  \n",
    "# Iterate through all the pages stored above \n",
    "for page in pages: \n",
    "    filename = \"page_\"+str(image_counter)+\".jpg\"          \n",
    "    page.save(filename, 'JPEG')   \n",
    "    image_counter = image_counter + 1    \n",
    "filelimit = image_counter-1  "
   ]
  },
  {
   "cell_type": "code",
   "execution_count": 26,
   "metadata": {},
   "outputs": [
    {
     "ename": "UnicodeEncodeError",
     "evalue": "'charmap' codec can't encode character '\\u0131' in position 284: character maps to <undefined>",
     "output_type": "error",
     "traceback": [
      "\u001b[1;31m---------------------------------------------------------------------------\u001b[0m",
      "\u001b[1;31mUnicodeEncodeError\u001b[0m                        Traceback (most recent call last)",
      "\u001b[1;32m<ipython-input-26-1e606e588f51>\u001b[0m in \u001b[0;36m<module>\u001b[1;34m\u001b[0m\n\u001b[0;32m     13\u001b[0m     \u001b[0mtext\u001b[0m \u001b[1;33m=\u001b[0m \u001b[0mtext\u001b[0m\u001b[1;33m.\u001b[0m\u001b[0mreplace\u001b[0m\u001b[1;33m(\u001b[0m\u001b[1;34m'-\\n'\u001b[0m\u001b[1;33m,\u001b[0m \u001b[1;34m''\u001b[0m\u001b[1;33m)\u001b[0m\u001b[1;33m\u001b[0m\u001b[1;33m\u001b[0m\u001b[0m\n\u001b[0;32m     14\u001b[0m \u001b[1;33m\u001b[0m\u001b[0m\n\u001b[1;32m---> 15\u001b[1;33m     \u001b[0mf\u001b[0m\u001b[1;33m.\u001b[0m\u001b[0mwrite\u001b[0m\u001b[1;33m(\u001b[0m\u001b[0mtext\u001b[0m\u001b[1;33m)\u001b[0m\u001b[1;33m\u001b[0m\u001b[1;33m\u001b[0m\u001b[0m\n\u001b[0m\u001b[0;32m     16\u001b[0m \u001b[1;31m#Close the file after writing all the text.\u001b[0m\u001b[1;33m\u001b[0m\u001b[1;33m\u001b[0m\u001b[1;33m\u001b[0m\u001b[0m\n\u001b[0;32m     17\u001b[0m \u001b[0mf\u001b[0m\u001b[1;33m.\u001b[0m\u001b[0mclose\u001b[0m\u001b[1;33m(\u001b[0m\u001b[1;33m)\u001b[0m\u001b[1;33m\u001b[0m\u001b[1;33m\u001b[0m\u001b[0m\n",
      "\u001b[1;32m~\\anaconda3\\lib\\encodings\\cp1252.py\u001b[0m in \u001b[0;36mencode\u001b[1;34m(self, input, final)\u001b[0m\n\u001b[0;32m     17\u001b[0m \u001b[1;32mclass\u001b[0m \u001b[0mIncrementalEncoder\u001b[0m\u001b[1;33m(\u001b[0m\u001b[0mcodecs\u001b[0m\u001b[1;33m.\u001b[0m\u001b[0mIncrementalEncoder\u001b[0m\u001b[1;33m)\u001b[0m\u001b[1;33m:\u001b[0m\u001b[1;33m\u001b[0m\u001b[1;33m\u001b[0m\u001b[0m\n\u001b[0;32m     18\u001b[0m     \u001b[1;32mdef\u001b[0m \u001b[0mencode\u001b[0m\u001b[1;33m(\u001b[0m\u001b[0mself\u001b[0m\u001b[1;33m,\u001b[0m \u001b[0minput\u001b[0m\u001b[1;33m,\u001b[0m \u001b[0mfinal\u001b[0m\u001b[1;33m=\u001b[0m\u001b[1;32mFalse\u001b[0m\u001b[1;33m)\u001b[0m\u001b[1;33m:\u001b[0m\u001b[1;33m\u001b[0m\u001b[1;33m\u001b[0m\u001b[0m\n\u001b[1;32m---> 19\u001b[1;33m         \u001b[1;32mreturn\u001b[0m \u001b[0mcodecs\u001b[0m\u001b[1;33m.\u001b[0m\u001b[0mcharmap_encode\u001b[0m\u001b[1;33m(\u001b[0m\u001b[0minput\u001b[0m\u001b[1;33m,\u001b[0m\u001b[0mself\u001b[0m\u001b[1;33m.\u001b[0m\u001b[0merrors\u001b[0m\u001b[1;33m,\u001b[0m\u001b[0mencoding_table\u001b[0m\u001b[1;33m)\u001b[0m\u001b[1;33m[\u001b[0m\u001b[1;36m0\u001b[0m\u001b[1;33m]\u001b[0m\u001b[1;33m\u001b[0m\u001b[1;33m\u001b[0m\u001b[0m\n\u001b[0m\u001b[0;32m     20\u001b[0m \u001b[1;33m\u001b[0m\u001b[0m\n\u001b[0;32m     21\u001b[0m \u001b[1;32mclass\u001b[0m \u001b[0mIncrementalDecoder\u001b[0m\u001b[1;33m(\u001b[0m\u001b[0mcodecs\u001b[0m\u001b[1;33m.\u001b[0m\u001b[0mIncrementalDecoder\u001b[0m\u001b[1;33m)\u001b[0m\u001b[1;33m:\u001b[0m\u001b[1;33m\u001b[0m\u001b[1;33m\u001b[0m\u001b[0m\n",
      "\u001b[1;31mUnicodeEncodeError\u001b[0m: 'charmap' codec can't encode character '\\u0131' in position 284: character maps to <undefined>"
     ]
    }
   ],
   "source": [
    "# Creating a text file to write the output \n",
    "#una opción es poniendo TESSDATA_PREFIX = 'C:\\\\Users\\\\...\\\\anaconda3\\\\Lib\\\\Tesseract-OCR\\\\tesseract.exe' para inglés.\n",
    "#para alemán podría ser:TESSDATA_PREFIX = ./tessdata ya que la carpeta tessdata con los otros idiomas está en este path\n",
    "#si no funcionara otra idea es poniendo el trained data de alemán en el mismo path de la carpeta del notebook y lo siguiente: \n",
    "outfile = \"scanned-file2.txt\"\n",
    "  \n",
    "f = open(outfile, \"a\") \n",
    "# Iterate from 1 to total number of pages \n",
    "for i in range(1, filelimit + 1): \n",
    "    filename = \"page_\"+str(i)+\".jpg\"\n",
    "         \n",
    "    # Recognize the text as string in image using pytesserct \n",
    "    text = str(((pytesseract.image_to_string(Image.open(filename),lang='deu',config='--tessdata-dir .')))) \n",
    "\n",
    "    text = text.replace('-\\n', '')     \n",
    "  \n",
    "    f.write(text) \n",
    "#Close the file after writing all the text. \n",
    "f.close() \n",
    "\n",
    "#En este caso da error porque el texto tiene palabras tachadas pero me genera el .txt y la conversión es muy decente. "
   ]
  },
  {
   "cell_type": "code",
   "execution_count": 2,
   "metadata": {},
   "outputs": [],
   "source": [
    "#prueba sin confirmar para cuando tienes más de un idioma y eliges uno. \n",
    "#tesseract myimage.png myimage -l deu"
   ]
  },
  {
   "cell_type": "code",
   "execution_count": null,
   "metadata": {},
   "outputs": [],
   "source": [
    "#ejemplo usado para obtener la información del jpg de arriba. este sería en arabe. \n",
    "import pytesseract\n",
    "text = pytesseract.image_to_string('image.jpg', lang='ara', config='--tessdata-dir .')\n",
    "print(text)"
   ]
  }
 ],
 "metadata": {
  "kernelspec": {
   "display_name": "Python 3",
   "language": "python",
   "name": "python3"
  },
  "language_info": {
   "codemirror_mode": {
    "name": "ipython",
    "version": 3
   },
   "file_extension": ".py",
   "mimetype": "text/x-python",
   "name": "python",
   "nbconvert_exporter": "python",
   "pygments_lexer": "ipython3",
   "version": "3.8.3"
  }
 },
 "nbformat": 4,
 "nbformat_minor": 4
}
